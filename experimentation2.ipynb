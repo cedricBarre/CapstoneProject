{
 "cells": [
  {
   "cell_type": "markdown",
   "id": "547303ee-bca0-43fd-a37f-ca6e40b4cdaa",
   "metadata": {},
   "source": [
    "**Useful Imports**"
   ]
  },
  {
   "cell_type": "code",
   "execution_count": 1,
   "id": "5d9eb1b1-75e9-4bc4-8233-52cf30d493ec",
   "metadata": {},
   "outputs": [],
   "source": [
    "import nibabel as nb\n",
    "import numpy as np\n",
    "import matplotlib.pyplot as plt\n",
    "import matplotlib.colors as col\n",
    "import csv\n",
    "import plotly.graph_objects as go"
   ]
  },
  {
   "cell_type": "markdown",
   "id": "405f0302-4412-46a0-9c9f-c2e6b451c4e4",
   "metadata": {},
   "source": [
    "**Variable Declaration**"
   ]
  },
  {
   "cell_type": "code",
   "execution_count": 2,
   "id": "3522d4e3-8042-4860-ae8c-9d8418cfbeae",
   "metadata": {},
   "outputs": [],
   "source": [
    "INFO = 1 # For debugging\n",
    "\n",
    "# Change path to find nifti files on local computer\n",
    "data = []\n",
    "with open('scans.csv', newline='') as scanfile:\n",
    "    reader = csv.DictReader(scanfile)\n",
    "    for row in reader:\n",
    "        dataRow = [ row['file_name'], float(row['rg_value']), [], 0, 0, 0, 0 ]\n",
    "        data.append(dataRow)"
   ]
  },
  {
   "cell_type": "markdown",
   "id": "77de5224-2ade-421a-80e9-ad87ee3d472d",
   "metadata": {},
   "source": [
    "**Extract Images**"
   ]
  },
  {
   "cell_type": "code",
   "execution_count": 3,
   "id": "7cdb6974-8d10-4528-b435-4abbe911b1a8",
   "metadata": {},
   "outputs": [],
   "source": [
    "idx = 0\n",
    "for d in data:\n",
    "    data[idx][2] = np.asarray(nb.load(d[0]).dataobj)\n",
    "    idx += 1"
   ]
  },
  {
   "cell_type": "markdown",
   "id": "518ac1a4-ba3d-4b2d-a3c5-11f0ab2c63be",
   "metadata": {},
   "source": [
    "**Average Images**"
   ]
  },
  {
   "cell_type": "code",
   "execution_count": 16,
   "id": "734efa0a-ea9c-4d45-bdd0-0778f4cdeb04",
   "metadata": {},
   "outputs": [
    {
     "data": {
      "text/plain": [
       "<matplotlib.colorbar.Colorbar at 0x7f0bd72b84c0>"
      ]
     },
     "execution_count": 16,
     "metadata": {},
     "output_type": "execute_result"
    },
    {
     "data": {
      "image/png": "[encoded data removed]",
      "text/plain": [
       "<Figure size 432x288 with 2 Axes>"
      ]
     },
     "metadata": {
      "needs_background": "light"
     },
     "output_type": "display_data"
    }
   ],
   "source": [
    "avgData = [ [ 101, np.zeros(data[0][2].shape), 0 ], [ 50.8, np.zeros(data[0][2].shape), 0 ] ]\n",
    "\n",
    "for d in data:\n",
    "    if( d[1] == 101.0 ):\n",
    "        avgData[0][1] = np.add(avgData[0][1], d[2])\n",
    "        avgData[0][2] += 1\n",
    "    elif( d[1] == 50.8 ):\n",
    "        avgData[1][1] = np.add(avgData[1][1], d[2])\n",
    "        avgData[1][2] += 1\n",
    "        \n",
    "idx = 0\n",
    "for rg in avgData:\n",
    "    avgData[idx][1] = rg[1]/rg[2]\n",
    "    idx += 1\n",
    "ratio = np.divide(avgData[0][1], avgData[1][1])\n",
    "\n",
    "fig = plt.figure(1)\n",
    "img = plt.imshow(np.rot90(ratio[:, 40, :]), cmap='jet')\n",
    "fig.colorbar(img)"
   ]
  },
  {
   "cell_type": "code",
   "execution_count": null,
   "id": "1f6a8ba7-2bc2-42a2-a007-d5ce0bdada17",
   "metadata": {},
   "outputs": [],
   "source": []
  }
 ],
 "metadata": {
  "kernelspec": {
   "display_name": "Python 3 (ipykernel)",
   "language": "python",
   "name": "python3"
  },
  "language_info": {
   "codemirror_mode": {
    "name": "ipython",
    "version": 3
   },
   "file_extension": ".py",
   "mimetype": "text/x-python",
   "name": "python",
   "nbconvert_exporter": "python",
   "pygments_lexer": "ipython3",
   "version": "3.8.10"
  }
 },
 "nbformat": 4,
 "nbformat_minor": 5
}
